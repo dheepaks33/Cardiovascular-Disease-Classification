{
 "cells": [
  {
   "cell_type": "markdown",
   "metadata": {},
   "source": [
    "## Pyradiomics implemented in Google Colab"
   ]
  },
  {
   "cell_type": "code",
   "execution_count": null,
   "metadata": {
    "colab": {
     "base_uri": "https://localhost:8080/"
    },
    "id": "AEmDDys_n3An",
    "outputId": "719f559e-0494-48ed-8723-68ee7b411771"
   },
   "outputs": [],
   "source": [
    "!pip install radiomics\n",
    "\n",
    "!pip install pyradiomics"
   ]
  },
  {
   "cell_type": "code",
   "execution_count": null,
   "metadata": {
    "id": "hqcUZfpJn762"
   },
   "outputs": [],
   "source": [
    "from __future__ import print_function\n",
    "import six\n",
    "import os  # needed navigate the system to get the input data\n",
    "\n",
    "import radiomics\n",
    "from radiomics import featureextractor"
   ]
  },
  {
   "cell_type": "code",
   "execution_count": null,
   "metadata": {
    "colab": {
     "base_uri": "https://localhost:8080/"
    },
    "id": "dssVmc9boUsQ",
    "outputId": "47d28732-c6c8-4d06-c358-0da40454a4c4"
   },
   "outputs": [],
   "source": [
    "from google.colab import drive\n",
    "drive.mount('/content/drive')"
   ]
  },
  {
   "cell_type": "code",
   "execution_count": null,
   "metadata": {
    "colab": {
     "base_uri": "https://localhost:8080/"
    },
    "id": "9GLVpdHvirki",
    "outputId": "683ada74-7f42-4107-91d0-eabe35dc2e1c"
   },
   "outputs": [],
   "source": [
    "import matplotlib as plt\n",
    "import SimpleITK as sitk\n",
    "import numpy as np\n",
    "\n",
    "j=1\n",
    "dtadir= os.path.join(os.getcwd())\n",
    "print(dtadir)"
   ]
  },
  {
   "cell_type": "code",
   "execution_count": null,
   "metadata": {
    "colab": {
     "base_uri": "https://localhost:8080/"
    },
    "id": "6-a43sihoDyK",
    "outputId": "0446592b-d839-4983-a922-6aeb6c1f5d6a"
   },
   "outputs": [],
   "source": [
    "\n",
    "feature_rows = []\n",
    "for i in range(1,539):\n",
    "  d_img=sitk.ReadImage(os.path.join(\"/content/drive/MyDrive/test_data/diastole\"+str(i)+\".png\"), sitk.sitkInt8)\n",
    "  im_arr = sitk.GetArrayFromImage(d_img)\n",
    "  im_arr = np.expand_dims(im_arr, axis=0)\n",
    "  im3d = sitk.GetImageFromArray(im_arr)\n",
    "  d_gt=sitk.ReadImage(os.path.join('/content/drive/MyDrive/test_data_gt/gt'+str(i)+\".png\"), sitk.sitkInt8)\n",
    "  print(np.unique(d_gt))\n",
    "\n",
    "  im_arr = sitk.GetArrayFromImage(d_gt)\n",
    "  im_arr = np.expand_dims(im_arr, axis=0)\n",
    "  im3d_gt = sitk.GetImageFromArray(im_arr)\n",
    "  params_path= os.path.join(dtadir, \"Params.yaml\")\n",
    "  settings={'force2Ddimension': 1}\n",
    "  settings['shape']=False\n",
    "  settings['force2D']=1\n",
    "  settings['shape2D']=1\n",
    "  settings['binWidth'] = 20\n",
    "  settings['sigma'] = [1, 2,3]\n",
    "\n",
    "\n",
    "  # Instantiate the extractor\n",
    "  extractor = featureextractor.RadiomicsFeatureExtractor(**settings)  # ** 'unpacks' the dictionary in the function call\n",
    "  if len(np.unique(d_gt))>1 and -35 in np.unique(d_gt):   # According to the pixel values vary value i.e -35, -127, -170, -255\n",
    "    settings = {'label':4294967261}\n",
    "    extractor = radiomics.featureextractor.RadiomicsFeatureExtractor(additionalInfo=True, **settings)\n",
    "    result = extractor.execute(im3d, im3d_gt)\n",
    "    #print('Result type:', type(result))  # result is returned in a Python ordered dictionary)\n",
    "    #print('')\n",
    "    print(j)\n",
    "    j+=1\n",
    "    print(np.unique(d_gt))\n",
    "\n",
    "    row = {'filename': str(i)}\n",
    "\n",
    "    for key, value in six.iteritems(result):\n",
    "        row['LV'+ key] = value\n",
    "    feature_rows.append(row)\n",
    "    import pandas as pd\n",
    "    # create a pandas DataFrame from the list of feature rows\n",
    "    df = pd.DataFrame(feature_rows)\n",
    "\n",
    "\n",
    "# save the DataFrame to a CSV file\n",
    "df.to_csv('values_LV.csv', index=False)\n"
   ]
  },
  {
   "cell_type": "code",
   "execution_count": null,
   "metadata": {
    "id": "T_rtu_fNB7Ce"
   },
   "outputs": [],
   "source": []
  }
 ],
 "metadata": {
  "colab": {
   "provenance": []
  },
  "kernelspec": {
   "display_name": "Python 3 (ipykernel)",
   "language": "python",
   "name": "python3"
  },
  "language_info": {
   "codemirror_mode": {
    "name": "ipython",
    "version": 3
   },
   "file_extension": ".py",
   "mimetype": "text/x-python",
   "name": "python",
   "nbconvert_exporter": "python",
   "pygments_lexer": "ipython3",
   "version": "3.12.1"
  }
 },
 "nbformat": 4,
 "nbformat_minor": 4
}
